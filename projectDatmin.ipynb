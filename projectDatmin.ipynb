{
 "cells": [
  {
   "cell_type": "code",
   "execution_count": 5,
   "metadata": {},
   "outputs": [],
   "source": [
    "import numpy as np\n",
    "import pandas as pd\n",
    "import matplotlib.pyplot as plt\n",
    "%matplotlib inline\n",
    "import seaborn as sns\n",
    "import re"
   ]
  },
  {
   "cell_type": "code",
   "execution_count": 57,
   "metadata": {},
   "outputs": [
    {
     "name": "stdout",
     "output_type": "stream",
     "text": [
      "<class 'pandas.core.frame.DataFrame'>\n",
      "RangeIndex: 2075 entries, 0 to 2074\n",
      "Data columns (total 12 columns):\n",
      " #   Column               Non-Null Count  Dtype \n",
      "---  ------               --------------  ----- \n",
      " 0   full_text            2075 non-null   object\n",
      " 1   created_at           2075 non-null   object\n",
      " 2   id_str               2075 non-null   int64 \n",
      " 3   quote_count          2075 non-null   int64 \n",
      " 4   reply_count          2075 non-null   int64 \n",
      " 5   retweet_count        2075 non-null   int64 \n",
      " 6   favorite_count       2075 non-null   int64 \n",
      " 7   lang                 2075 non-null   object\n",
      " 8   user_id_str          2075 non-null   int64 \n",
      " 9   conversation_id_str  2075 non-null   int64 \n",
      " 10  username             2075 non-null   object\n",
      " 11  tweet_url            2075 non-null   object\n",
      "dtypes: int64(7), object(5)\n",
      "memory usage: 194.7+ KB\n"
     ]
    }
   ],
   "source": [
    "# Step 1: Load the data\n",
    "import pandas as pd\n",
    "df = pd.read_csv(\"ConflictPalestineIsraelDataset.csv\")\n",
    "\n",
    "df.head()\n",
    "\n",
    "# Step 2: Explore the data\n",
    "df.info()"
   ]
  },
  {
   "cell_type": "code",
   "execution_count": 58,
   "metadata": {},
   "outputs": [
    {
     "name": "stdout",
     "output_type": "stream",
     "text": [
      "2075\n"
     ]
    }
   ],
   "source": [
    "lenDF = len(df)\n",
    "print(lenDF)"
   ]
  },
  {
   "cell_type": "markdown",
   "metadata": {},
   "source": [
    "Cleaning The Data"
   ]
  },
  {
   "cell_type": "code",
   "execution_count": 59,
   "metadata": {},
   "outputs": [],
   "source": [
    "columns_to_drop = ['tweet_url', 'username','created_at','quote_count', 'lang','reply_count', 'retweet_count','favorite_count','user_id_str','conversation_id_str','id_str']\n",
    "\n",
    "# Drop the specified columns\n",
    "df = df.drop(columns=columns_to_drop)"
   ]
  },
  {
   "cell_type": "code",
   "execution_count": 60,
   "metadata": {},
   "outputs": [
    {
     "data": {
      "text/html": [
       "<div>\n",
       "<style scoped>\n",
       "    .dataframe tbody tr th:only-of-type {\n",
       "        vertical-align: middle;\n",
       "    }\n",
       "\n",
       "    .dataframe tbody tr th {\n",
       "        vertical-align: top;\n",
       "    }\n",
       "\n",
       "    .dataframe thead th {\n",
       "        text-align: right;\n",
       "    }\n",
       "</style>\n",
       "<table border=\"1\" class=\"dataframe\">\n",
       "  <thead>\n",
       "    <tr style=\"text-align: right;\">\n",
       "      <th></th>\n",
       "      <th>full_text</th>\n",
       "    </tr>\n",
       "  </thead>\n",
       "  <tbody>\n",
       "    <tr>\n",
       "      <th>0</th>\n",
       "      <td>I can't see a war between two countries. Israe...</td>\n",
       "    </tr>\n",
       "    <tr>\n",
       "      <th>1</th>\n",
       "      <td>@Forbes Free palestine</td>\n",
       "    </tr>\n",
       "    <tr>\n",
       "      <th>2</th>\n",
       "      <td>Now I know why hitla cleaned y’all out free Pa...</td>\n",
       "    </tr>\n",
       "    <tr>\n",
       "      <th>3</th>\n",
       "      <td>@Adii__here @goddeketal Their going to flatten...</td>\n",
       "    </tr>\n",
       "    <tr>\n",
       "      <th>4</th>\n",
       "      <td>@DrLoupis You seemed fine when it was just pal...</td>\n",
       "    </tr>\n",
       "  </tbody>\n",
       "</table>\n",
       "</div>"
      ],
      "text/plain": [
       "                                           full_text\n",
       "0  I can't see a war between two countries. Israe...\n",
       "1                             @Forbes Free palestine\n",
       "2  Now I know why hitla cleaned y’all out free Pa...\n",
       "3  @Adii__here @goddeketal Their going to flatten...\n",
       "4  @DrLoupis You seemed fine when it was just pal..."
      ]
     },
     "execution_count": 60,
     "metadata": {},
     "output_type": "execute_result"
    }
   ],
   "source": [
    "df.head()"
   ]
  },
  {
   "cell_type": "code",
   "execution_count": 35,
   "metadata": {},
   "outputs": [
    {
     "name": "stdout",
     "output_type": "stream",
     "text": [
      "https://t.co/yKZ9MbJQo3 hamudi https://t.co/yKZ9MbJQo3 #freepalestine https://t.co/yKZ9MbJQo3\n"
     ]
    }
   ],
   "source": [
    "# x = \"  https://t.co/yKZ9MbJQo3 hamudi https://t.co/yKZ9MbJQo3 #freepalestine https://t.co/yKZ9MbJQo3\"\n",
    "# x = re.sub(r'^\\s+', '', x) \n",
    "\n",
    "# print(x)"
   ]
  },
  {
   "cell_type": "code",
   "execution_count": 61,
   "metadata": {},
   "outputs": [],
   "source": [
    "for row in range(0, lenDF):\n",
    "    #menghilangkan @\n",
    "    df['full_text'][row] = re.sub(r'@[\\w.]+', '', df['full_text'][row]) \n",
    "    #menghilangkan link https\n",
    "    df['full_text'][row] = re.sub(r'https(\\S)*', '', df['full_text'][row]) \n",
    "    # #menghilangkan #\n",
    "    df['full_text'][row] = re.sub(r'#', '', df['full_text'][row]) \n",
    "    #menghilangkan -\n",
    "    df['full_text'][row] = re.sub(r'-', ' ', df['full_text'][row]) \n",
    "    #menghilangkan '\n",
    "    df['full_text'][row] = re.sub(r\"'\", '', df['full_text'][row]) \n",
    "    #menghilangkan _\n",
    "    df['full_text'][row] = re.sub(r\"_\", '', df['full_text'][row])\n",
    "    # #menghilangkan ?\n",
    "    df['full_text'][row] = re.sub(r\"\\?\", ' ', df['full_text'][row])\n",
    "    #menghilangkan !\n",
    "    df['full_text'][row] = re.sub(r\"!\", ' ', df['full_text'][row])\n",
    "    # #menghilangkan .\n",
    "    df['full_text'][row] = re.sub(r\"\\.\", '', df['full_text'][row])\n",
    "    #menghilangkan ’\n",
    "    df['full_text'][row] = re.sub(r\"’\", '', df['full_text'][row])\n",
    "    #menghilangkan “\n",
    "    df['full_text'][row] = re.sub(r\"“\", '', df['full_text'][row])\n",
    "    #menghilangkan ”\n",
    "    df['full_text'][row] = re.sub(r\"”\", '', df['full_text'][row])\n",
    "    #menghilangkan emot\n",
    "    df['full_text'][row] = re.sub(r'[\\U0001F600-\\U0001F64F\\U0001F300-\\U0001F5FF\\U0001F680-\\U0001F6FF\\U0001F700-\\U0001F77F\\U0001F780-\\U0001F7FF\\U0001F800-\\U0001F8FF\\U0001F900-\\U0001F9FF\\U0001FA00-\\U0001FA6F\\U0001FA70-\\U0001FAFF\\U00002600-\\U000026FF\\U00002700-\\U000027BF\\U00002B50\\U00002B06]+', '', df['full_text'][row])\n",
    "    #menghilangkan double space\n",
    "    df['full_text'][row] = re.sub(r'\\s+', ' ', df['full_text'][row])\n",
    "    #menghilangkan space diawal\n",
    "    df['full_text'][row] = re.sub(r'^\\s+', '', df['full_text'][row])"
   ]
  },
  {
   "cell_type": "code",
   "execution_count": 62,
   "metadata": {},
   "outputs": [
    {
     "data": {
      "text/html": [
       "<div>\n",
       "<style scoped>\n",
       "    .dataframe tbody tr th:only-of-type {\n",
       "        vertical-align: middle;\n",
       "    }\n",
       "\n",
       "    .dataframe tbody tr th {\n",
       "        vertical-align: top;\n",
       "    }\n",
       "\n",
       "    .dataframe thead th {\n",
       "        text-align: right;\n",
       "    }\n",
       "</style>\n",
       "<table border=\"1\" class=\"dataframe\">\n",
       "  <thead>\n",
       "    <tr style=\"text-align: right;\">\n",
       "      <th></th>\n",
       "      <th>full_text</th>\n",
       "    </tr>\n",
       "  </thead>\n",
       "  <tbody>\n",
       "    <tr>\n",
       "      <th>0</th>\n",
       "      <td>I cant see a war between two countries Israel ...</td>\n",
       "    </tr>\n",
       "    <tr>\n",
       "      <th>1</th>\n",
       "      <td>Free palestine</td>\n",
       "    </tr>\n",
       "    <tr>\n",
       "      <th>2</th>\n",
       "      <td>Now I know why hitla cleaned yall out free Pal...</td>\n",
       "    </tr>\n",
       "    <tr>\n",
       "      <th>3</th>\n",
       "      <td>Their going to flatten Palestine pave it over ...</td>\n",
       "    </tr>\n",
       "    <tr>\n",
       "      <th>4</th>\n",
       "      <td>You seemed fine when it was just palestine bom...</td>\n",
       "    </tr>\n",
       "  </tbody>\n",
       "</table>\n",
       "</div>"
      ],
      "text/plain": [
       "                                           full_text\n",
       "0  I cant see a war between two countries Israel ...\n",
       "1                                     Free palestine\n",
       "2  Now I know why hitla cleaned yall out free Pal...\n",
       "3  Their going to flatten Palestine pave it over ...\n",
       "4  You seemed fine when it was just palestine bom..."
      ]
     },
     "execution_count": 62,
     "metadata": {},
     "output_type": "execute_result"
    }
   ],
   "source": [
    "df.head()"
   ]
  },
  {
   "cell_type": "code",
   "execution_count": 139,
   "metadata": {},
   "outputs": [],
   "source": [
    "df.to_csv('result.csv')"
   ]
  },
  {
   "cell_type": "markdown",
   "metadata": {},
   "source": [
    "Sentimen Analyst"
   ]
  },
  {
   "cell_type": "code",
   "execution_count": 63,
   "metadata": {},
   "outputs": [
    {
     "name": "stderr",
     "output_type": "stream",
     "text": [
      "[nltk_data] Downloading package punkt to\n",
      "[nltk_data]     C:\\Users\\mohsu\\AppData\\Roaming\\nltk_data...\n",
      "[nltk_data]   Package punkt is already up-to-date!\n",
      "[nltk_data] Downloading package stopwords to\n",
      "[nltk_data]     C:\\Users\\mohsu\\AppData\\Roaming\\nltk_data...\n",
      "[nltk_data]   Package stopwords is already up-to-date!\n",
      "[nltk_data] Downloading package vader_lexicon to\n",
      "[nltk_data]     C:\\Users\\mohsu\\AppData\\Roaming\\nltk_data...\n",
      "[nltk_data]   Package vader_lexicon is already up-to-date!\n"
     ]
    },
    {
     "data": {
      "text/plain": [
       "True"
      ]
     },
     "execution_count": 63,
     "metadata": {},
     "output_type": "execute_result"
    }
   ],
   "source": [
    "import nltk\n",
    "from nltk.tokenize import word_tokenize\n",
    "from nltk.corpus import stopwords\n",
    "from nltk.sentiment import SentimentIntensityAnalyzer\n",
    "\n",
    "nltk.download('punkt')\n",
    "nltk.download('stopwords')\n",
    "nltk.download('vader_lexicon')"
   ]
  },
  {
   "cell_type": "code",
   "execution_count": 64,
   "metadata": {},
   "outputs": [],
   "source": [
    "df['sentiment'] = 'no sentiment'"
   ]
  },
  {
   "cell_type": "code",
   "execution_count": 65,
   "metadata": {},
   "outputs": [],
   "source": [
    "def analyze_sentiment(text):\n",
    "    # Create a SentimentIntensityAnalyzer object\n",
    "    sia = SentimentIntensityAnalyzer()\n",
    "\n",
    "    # Get the sentiment scores\n",
    "    sentiment_scores = sia.polarity_scores(text)\n",
    "\n",
    "    # Classify sentiment based on the compound score\n",
    "    if sentiment_scores['compound'] >= 0.05:\n",
    "        sentiment_label = \"Positive\"\n",
    "    elif sentiment_scores['compound'] <= -0.05:\n",
    "        sentiment_label = \"Negative\"\n",
    "    else:\n",
    "        sentiment_label = \"Neutral\"\n",
    "\n",
    "    return sentiment_label"
   ]
  },
  {
   "cell_type": "code",
   "execution_count": 66,
   "metadata": {},
   "outputs": [],
   "source": [
    "for row in range(0, lenDF):\n",
    "    df['sentiment'][row] = analyze_sentiment(df['full_text'][row]) "
   ]
  },
  {
   "cell_type": "code",
   "execution_count": 67,
   "metadata": {},
   "outputs": [
    {
     "name": "stdout",
     "output_type": "stream",
     "text": [
      "Jumlah countPositive 784\n",
      "Jumlah countNegative 750\n",
      "Jumlah countNeutral 541\n"
     ]
    }
   ],
   "source": [
    "countPositive = 0\n",
    "countNegative = 0\n",
    "countNeutral = 0\n",
    "for row in range(0, lenDF):\n",
    "    if df['sentiment'][row] == 'Positive' : countPositive = countPositive + 1\n",
    "    elif df['sentiment'][row] == 'Negative' : countNegative = countNegative + 1   \n",
    "    elif df['sentiment'][row] == 'Neutral' : countNeutral = countNeutral + 1\n",
    "\n",
    "print('Jumlah countPositive', countPositive)\n",
    "print('Jumlah countNegative', countNegative)\n",
    "print('Jumlah countNeutral', countNeutral)"
   ]
  },
  {
   "cell_type": "code",
   "execution_count": 145,
   "metadata": {},
   "outputs": [],
   "source": [
    "df.to_csv('result.csv')"
   ]
  },
  {
   "cell_type": "markdown",
   "metadata": {},
   "source": [
    "Labelling custom"
   ]
  },
  {
   "cell_type": "code",
   "execution_count": 46,
   "metadata": {},
   "outputs": [],
   "source": [
    "import pandas as pd\n",
    "df = pd.read_csv(\"result.csv\")"
   ]
  },
  {
   "cell_type": "code",
   "execution_count": 68,
   "metadata": {},
   "outputs": [],
   "source": [
    "def label_data(text, listInsight, name):\n",
    "    # Pra-pemrosesan teks\n",
    "    tokens = word_tokenize(text.lower())  # Tokenisasi dan ubah teks menjadi lowercase\n",
    "    tokens = [word for word in tokens if word.isalnum()]  # Hapus karakter non-alphanumeric\n",
    "    # tokens = [word for word in tokens if word not in stopwords.words('english')]  # Hapus stop words\n",
    "    \n",
    "    matched_keywords = [keyword for keyword in listInsight if keyword in tokens]\n",
    "    \n",
    "    # Tentukan label berdasarkan keberadaan keyword\n",
    "    if matched_keywords:\n",
    "        return name\n",
    "    else :\n",
    "        return 'No Insight'\n"
   ]
  },
  {
   "cell_type": "code",
   "execution_count": 69,
   "metadata": {},
   "outputs": [],
   "source": [
    "df['insight'] = 'No Insight'"
   ]
  },
  {
   "cell_type": "code",
   "execution_count": 70,
   "metadata": {},
   "outputs": [],
   "source": [
    "def giveLabel(list, name):\n",
    "    for row in range(0, lenDF):\n",
    "        if df['insight'][row] == 'No Insight' :\n",
    "            df['insight'][row] = label_data(str(df['full_text'][row]), list, name)"
   ]
  },
  {
   "cell_type": "code",
   "execution_count": 71,
   "metadata": {},
   "outputs": [],
   "source": [
    "list_peace = ['peace', 'harmony', 'nonviolence', 'stop', 'end', 'ship', 'love', 'beloved', 'ily', 'sympathy', 'hope', 'humanity', 'cease', 'ceasefire']\n",
    "giveLabel(list_peace, 'peace')"
   ]
  },
  {
   "cell_type": "code",
   "execution_count": 72,
   "metadata": {},
   "outputs": [],
   "source": [
    "list_proIsrael = ['terrorist', 'pro-israel', 'accused']\n",
    "giveLabel(list_proIsrael, 'proIsrael')"
   ]
  },
  {
   "cell_type": "code",
   "execution_count": 73,
   "metadata": {},
   "outputs": [],
   "source": [
    "list_sadly = ['sadly', 'sad', 'sorry', 'innocent', 'children', 'young', 'babies', ]\n",
    "giveLabel(list_sadly, 'sadly')"
   ]
  },
  {
   "cell_type": "code",
   "execution_count": 74,
   "metadata": {},
   "outputs": [],
   "source": [
    "list_boikot = ['boycot', 'blacklist']\n",
    "giveLabel(list_boikot, 'boikot')"
   ]
  },
  {
   "cell_type": "code",
   "execution_count": 75,
   "metadata": {},
   "outputs": [],
   "source": [
    "list_genocide = ['genocide']\n",
    "giveLabel(list_genocide, 'genocide')"
   ]
  },
  {
   "cell_type": "code",
   "execution_count": 76,
   "metadata": {},
   "outputs": [],
   "source": [
    "list_religionFight = ['muslim', 'islam', 'allah', 'christian', 'jewish', 'Islamic', 'jews']\n",
    "giveLabel(list_religionFight, 'religionFight')"
   ]
  },
  {
   "cell_type": "code",
   "execution_count": 69,
   "metadata": {},
   "outputs": [],
   "source": [
    "# list_israel = ['zionist', 'evil']\n",
    "# giveLabel(list_israel, 'zionist')"
   ]
  },
  {
   "cell_type": "code",
   "execution_count": 77,
   "metadata": {},
   "outputs": [],
   "source": [
    "list_supportPalestine = ['raise','watermelon', 'free', 'help', 'helping', 'save', 'donation', 'coalition', 'pray', 'support', 'stand', '#palestine', 'freepalestine', 'hope','freedom', 'protect', 'with']\n",
    "giveLabel(list_supportPalestine, 'supportPalestine')"
   ]
  },
  {
   "cell_type": "code",
   "execution_count": 78,
   "metadata": {},
   "outputs": [],
   "source": [
    "list_war = ['ww3', 'war', 'bombing', 'burn', 'bombed', 'violence', 'against', 'fighting', 'rocket', 'conflict', 'action', 'gun', 'action', 'killing', 'police', 'tension', 'conflict', 'crisis', 'army', 'artillery', 'gazaunderattack', 'attacks', 'fire']\n",
    "giveLabel(list_war, 'war')"
   ]
  },
  {
   "cell_type": "code",
   "execution_count": 71,
   "metadata": {},
   "outputs": [],
   "source": [
    "# list_tagline = ['fromrivertothesea']\n",
    "# giveLabel(list_tagline, 'tagline')"
   ]
  },
  {
   "cell_type": "code",
   "execution_count": 79,
   "metadata": {},
   "outputs": [],
   "source": [
    "list_suffering = ['suffer', 'pain', 'struggle', 'despair','suffering', 'hell', 'through', 'bullying']\n",
    "giveLabel(list_suffering, 'suffering')"
   ]
  },
  {
   "cell_type": "code",
   "execution_count": 80,
   "metadata": {},
   "outputs": [],
   "source": [
    "list_against_israel = ['hate', 'speech', 'zionist', 'evil', 'israhell']\n",
    "giveLabel(list_against_israel, 'against_israel')"
   ]
  },
  {
   "cell_type": "code",
   "execution_count": 81,
   "metadata": {},
   "outputs": [],
   "source": [
    "list_selfdefend = ['hamas', 'defended', 'brave', 'defend']\n",
    "giveLabel(list_selfdefend, 'selfdefend')"
   ]
  },
  {
   "cell_type": "code",
   "execution_count": 82,
   "metadata": {},
   "outputs": [],
   "source": [
    "list_israel_crime = ['kill', 'innocent', 'terrorist', 'flatten', 'cleansing', 'attacked', 'forced', 'violence', 'occupation', 'murdered', 'force', 'crimes', 'crime', 'aggression', 'victim']\n",
    "giveLabel(list_israel_crime, 'israel_crime')"
   ]
  },
  {
   "cell_type": "code",
   "execution_count": 83,
   "metadata": {},
   "outputs": [],
   "source": [
    "list_israel_lies = ['provoke', 'hate', 'liars', 'lie', 'hating', 'lies']\n",
    "giveLabel(list_israel_lies, 'israel_lies')"
   ]
  },
  {
   "cell_type": "code",
   "execution_count": 84,
   "metadata": {},
   "outputs": [],
   "source": [
    "list_hypocritical = ['sabotage', 'propaganda', 'islamophobism', 'evidence', 'abuse']\n",
    "giveLabel(list_hypocritical, 'hypocritical')"
   ]
  },
  {
   "cell_type": "code",
   "execution_count": 85,
   "metadata": {},
   "outputs": [],
   "source": [
    "list_wonder = ['confused', 'why', 'arguing', 'what', 'where', 'how', 'when', 'whats', '?']\n",
    "giveLabel(list_wonder, 'wonder')"
   ]
  },
  {
   "cell_type": "code",
   "execution_count": 86,
   "metadata": {},
   "outputs": [],
   "source": [
    "list_historyTalk = ['history', 'research']\n",
    "giveLabel(list_historyTalk, 'historyTalk')"
   ]
  },
  {
   "cell_type": "code",
   "execution_count": 78,
   "metadata": {},
   "outputs": [],
   "source": [
    "# list_people_israel = ['hoax']\n",
    "# giveLabel(list_people_israel, 'people_israel')"
   ]
  },
  {
   "cell_type": "code",
   "execution_count": 87,
   "metadata": {},
   "outputs": [],
   "source": [
    "list_government_war = ['political', 'land', 'politique', 'money', 'democracy', 'control', 'goverment', 'history','jerusalem', 'fight', 'demonstrate', 'deported', 'civil']\n",
    "giveLabel(list_government_war, 'government_war')"
   ]
  },
  {
   "cell_type": "code",
   "execution_count": 88,
   "metadata": {},
   "outputs": [],
   "source": [
    "list_conflict = ['palestine', 'israel']\n",
    "giveLabel(list_conflict, 'conflict')"
   ]
  },
  {
   "cell_type": "code",
   "execution_count": 89,
   "metadata": {},
   "outputs": [],
   "source": [
    "for row in range(0, lenDF):\n",
    "    if (df['insight'][row]) == 'No Insight': \n",
    "        print(df['full_text'][row])"
   ]
  },
  {
   "cell_type": "code",
   "execution_count": 92,
   "metadata": {},
   "outputs": [],
   "source": [
    "# listToDrop = []\n",
    "# for row in range(0, lenDF):\n",
    "#     if (df['insight'][row]) == 'No Insight': \n",
    "#         listToDrop.append(row)\n",
    "#         print(df['full_text'][row])"
   ]
  },
  {
   "cell_type": "code",
   "execution_count": 54,
   "metadata": {},
   "outputs": [],
   "source": [
    "# for x in listToDrop :\n",
    "#     df = df.drop(int(x))"
   ]
  },
  {
   "cell_type": "code",
   "execution_count": 53,
   "metadata": {},
   "outputs": [
    {
     "name": "stdout",
     "output_type": "stream",
     "text": [
      "[22, 46, 52, 53, 55, 70, 94, 123, 143, 147, 166, 172, 183, 185, 186, 190, 192, 193, 196, 198, 207, 211, 216, 221, 238, 246, 248, 276, 293, 294, 308, 310, 311, 316, 329, 332, 333, 340, 341, 355, 356, 367, 378, 402, 406, 413, 414, 421, 423, 424, 425, 429, 435, 441, 450, 462, 466, 489, 509, 515, 521, 527, 550, 557, 567, 569, 571, 578, 580, 584, 585, 598, 601, 616, 620, 635, 638, 644, 657, 661, 663, 666, 675, 682, 684, 689, 702, 708, 718, 724, 728, 729, 734, 735, 751, 753, 756, 767, 772, 790, 794, 797, 801, 803, 805, 809, 812, 820, 828, 837, 840, 853, 856, 862, 865, 872, 881, 890, 895, 906, 912, 922, 929, 931, 943, 956, 957, 969, 977, 981, 995, 997, 1005, 1006, 1011, 1014, 1016, 1020, 1023, 1029, 1031, 1032, 1034, 1040, 1041, 1052, 1060, 1067, 1068, 1069, 1077, 1082, 1083, 1090, 1096, 1104, 1109, 1110, 1114, 1121, 1122, 1126, 1127, 1133, 1141, 1143, 1147, 1167, 1169, 1189, 1196, 1197, 1203, 1210, 1211, 1214, 1226, 1229, 1258, 1261, 1285, 1287, 1290, 1295, 1298, 1301, 1313, 1318, 1319, 1339, 1348, 1351, 1359, 1376, 1380, 1382, 1383, 1384, 1388, 1406, 1408, 1416, 1418, 1421, 1422, 1426, 1435, 1436, 1437, 1438, 1443, 1445, 1447, 1454, 1458, 1464, 1467, 1468, 1475, 1484, 1485, 1489, 1492, 1502, 1503, 1504, 1505, 1507, 1516, 1523, 1525, 1527, 1538, 1541, 1542, 1546, 1553, 1565, 1577, 1578, 1581, 1592, 1595, 1597, 1599, 1607, 1611, 1614, 1616, 1619, 1631, 1639, 1653, 1657, 1661, 1667, 1676, 1688, 1691, 1698, 1701, 1722, 1725, 1730, 1733, 1735, 1737, 1745, 1749, 1753, 1765, 1766, 1768, 1777, 1793, 1795, 1810, 1818, 1825, 1828, 1830, 1846, 1855, 1858, 1867, 1869, 1870, 1872, 1875, 1883, 1892, 1894, 1906, 1915, 1924, 1930, 1940, 1948, 1951, 1952, 1953, 1954, 1960, 1963, 1999, 2003, 2007, 2013, 2029, 2044, 2047, 2060, 2063, 2066, 2067, 2071, 2072, 2089, 2096, 2113, 2120, 2122, 2129, 2159, 2162, 2178, 2193, 2205, 2218, 2225, 2242, 2247, 2249, 2253, 2268, 2271, 2273, 2275, 2277, 2283, 2285, 2293, 2294, 2297, 2316, 2332, 2336, 2338, 2343, 2347, 2354, 2357, 2359, 2363, 2371, 2375, 2378, 2379, 2383, 2385, 2394, 2403, 2405, 2408, 2410, 2412, 2416, 2419, 2423, 2426, 2427, 2429, 2430, 2434, 2438, 2439]\n"
     ]
    }
   ],
   "source": [
    "# print(listToDrop)"
   ]
  },
  {
   "cell_type": "code",
   "execution_count": 56,
   "metadata": {},
   "outputs": [],
   "source": [
    "# df.to_csv('test.csv', index=False)"
   ]
  },
  {
   "cell_type": "code",
   "execution_count": 90,
   "metadata": {},
   "outputs": [
    {
     "name": "stdout",
     "output_type": "stream",
     "text": [
      "No_Insight :  0\n",
      "israel_lies :  6\n",
      "conflict :  434\n",
      "war :  149\n",
      "historyTalk :  11\n",
      "wonder :  132\n",
      "hypocritical :  5\n",
      "israel_crime :  39\n",
      "against_israel :  18\n",
      "suffering :  20\n",
      "supportPalestine :  570\n",
      "religionFigh :  155\n",
      "genocide :  43\n",
      "boikot :  1\n",
      "sadly :  104\n",
      "proIsrael :  48\n",
      "selfdefend :  100\n",
      "peace :  211\n"
     ]
    }
   ],
   "source": [
    "No_Insight = 0\n",
    "israel_lies = 0\n",
    "conflict = 0\n",
    "war = 0\n",
    "historyTalk = 0\n",
    "wonder = 0\n",
    "hypocritical = 0\n",
    "israel_crime = 0\n",
    "against_israel = 0\n",
    "suffering = 0\n",
    "supportPalestine = 0\n",
    "religionFight = 0\n",
    "genocide = 0\n",
    "boikot = 0\n",
    "sadly = 0\n",
    "proIsrael = 0\n",
    "selfdefend = 0\n",
    "peace = 0\n",
    "\n",
    "for row in range(0, lenDF):\n",
    "    if (df['insight'][row]) == 'peace': peace = peace + 1\n",
    "    elif (df['insight'][row]) == 'selfdefend': selfdefend = selfdefend + 1\n",
    "    elif (df['insight'][row]) == 'proIsrael': proIsrael = proIsrael + 1\n",
    "    elif (df['insight'][row]) == 'sadly': sadly = sadly + 1\n",
    "    elif (df['insight'][row]) == 'boikot': boikot = boikot + 1\n",
    "    elif (df['insight'][row]) == 'genocide': genocide = genocide + 1\n",
    "    elif (df['insight'][row]) == 'religionFight': religionFight = religionFight + 1\n",
    "    elif (df['insight'][row]) == 'supportPalestine': supportPalestine = supportPalestine + 1\n",
    "    elif (df['insight'][row]) == 'suffering': suffering = suffering + 1\n",
    "    elif (df['insight'][row]) == 'against_israel': against_israel = against_israel + 1\n",
    "    elif (df['insight'][row]) == 'israel_crime': israel_crime = israel_crime + 1\n",
    "    elif (df['insight'][row]) == 'hypocritical': hypocritical = hypocritical + 1\n",
    "    elif (df['insight'][row]) == 'wonder': wonder = wonder + 1\n",
    "    elif (df['insight'][row]) == 'historyTalk': historyTalk = historyTalk + 1\n",
    "    elif (df['insight'][row]) == 'war': war = war + 1\n",
    "    elif (df['insight'][row]) == 'conflict': conflict = conflict + 1\n",
    "    elif (df['insight'][row]) == 'israel_lies': israel_lies = israel_lies + 1\n",
    "    elif (df['insight'][row]) == 'No Insight': No_Insight = No_Insight + 1\n",
    "\n",
    "print('No_Insight : ',No_Insight)\n",
    "print('israel_lies : ',israel_lies)\n",
    "print('conflict : ',conflict)\n",
    "print('war : ',war)\n",
    "print('historyTalk : ',historyTalk)\n",
    "print('wonder : ',wonder)\n",
    "print('hypocritical : ',hypocritical)\n",
    "print('israel_crime : ',israel_crime)\n",
    "print('against_israel : ',against_israel)\n",
    "print('suffering : ',suffering)\n",
    "print('supportPalestine : ',supportPalestine)\n",
    "print('religionFigh : ',religionFight)\n",
    "print('genocide : ',genocide)\n",
    "print('boikot : ',boikot)\n",
    "print('sadly : ',sadly)\n",
    "print('proIsrael : ',proIsrael)\n",
    "print('selfdefend : ',selfdefend)\n",
    "print('peace : ',peace)"
   ]
  },
  {
   "cell_type": "code",
   "execution_count": 93,
   "metadata": {},
   "outputs": [],
   "source": [
    "df.to_csv('result2.csv', index = False)"
   ]
  }
 ],
 "metadata": {
  "kernelspec": {
   "display_name": "base",
   "language": "python",
   "name": "python3"
  },
  "language_info": {
   "codemirror_mode": {
    "name": "ipython",
    "version": 3
   },
   "file_extension": ".py",
   "mimetype": "text/x-python",
   "name": "python",
   "nbconvert_exporter": "python",
   "pygments_lexer": "ipython3",
   "version": "3.11.4"
  }
 },
 "nbformat": 4,
 "nbformat_minor": 2
}
